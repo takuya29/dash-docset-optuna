{
  "cells": [
    {
      "cell_type": "markdown",
      "metadata": {},
      "source": [
        "\n\n# (File-based) Journal Storage\n\nOptuna provides :class:`~optuna.storages.JournalStorage`. With this feature, you can easily run a\ndistributed optimization over network using NFS as the shared storage, without need for setting up\nRDB or Redis.\n"
      ]
    },
    {
      "cell_type": "code",
      "execution_count": null,
      "metadata": {
        "collapsed": false
      },
      "outputs": [],
      "source": [
        "import logging\nimport sys\n\nimport optuna\n\n\n# Add stream handler of stdout to show the messages\noptuna.logging.get_logger(\"optuna\").addHandler(logging.StreamHandler(sys.stdout))\nstudy_name = \"example-study\"  # Unique identifier of the study.\nstorage = optuna.storages.JournalStorage(\n    optuna.storages.JournalFileStorage(\"./journal.log\"),  # NFS path for distributed optimization\n)\n\nstudy = optuna.create_study(study_name=study_name, storage=storage)\n\n\ndef objective(trial):\n    x = trial.suggest_float(\"x\", -10, 10)\n    return (x - 2) ** 2\n\n\nstudy.optimize(objective, n_trials=3)"
      ]
    },
    {
      "cell_type": "markdown",
      "metadata": {},
      "source": [
        "Although the optimization in this example is too short to run in parallel, you can extend this\nexample to write a optimization script which can be run in parallel.\n\n\n"
      ]
    },
    {
      "cell_type": "markdown",
      "metadata": {},
      "source": [
        "<div class=\"alert alert-info\"><h4>Note</h4><p>In a Windows environment, an error message \"A required privilege is not held by the client\"\n    may appear. In this case, you can solve the problem with creating storage by specifying\n    :class:`~optuna.storages.JournalFileOpenLock`. See the reference of\n    :class:`~optuna.storages.JournalStorage` for any details.</p></div>\n\n"
      ]
    }
  ],
  "metadata": {
    "kernelspec": {
      "display_name": "Python 3",
      "language": "python",
      "name": "python3"
    },
    "language_info": {
      "codemirror_mode": {
        "name": "ipython",
        "version": 3
      },
      "file_extension": ".py",
      "mimetype": "text/x-python",
      "name": "python",
      "nbconvert_exporter": "python",
      "pygments_lexer": "ipython3",
      "version": "3.8.18"
    }
  },
  "nbformat": 4,
  "nbformat_minor": 0
}