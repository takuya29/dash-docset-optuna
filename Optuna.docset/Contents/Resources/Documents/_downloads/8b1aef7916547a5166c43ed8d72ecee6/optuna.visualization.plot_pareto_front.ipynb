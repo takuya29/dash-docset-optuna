{
  "cells": [
    {
      "cell_type": "markdown",
      "metadata": {},
      "source": [
        "\n# plot_pareto_front\n\n.. autofunction:: optuna.visualization.plot_pareto_front\n\nThe following code snippet shows how to plot the Pareto front of a study.\n"
      ]
    },
    {
      "cell_type": "code",
      "execution_count": null,
      "metadata": {
        "collapsed": false
      },
      "outputs": [],
      "source": [
        "import optuna\nfrom plotly.io import show\n\n\ndef objective(trial):\n    x = trial.suggest_float(\"x\", 0, 5)\n    y = trial.suggest_float(\"y\", 0, 3)\n\n    v0 = 4 * x**2 + 4 * y**2\n    v1 = (x - 5) ** 2 + (y - 5) ** 2\n    return v0, v1\n\n\nstudy = optuna.create_study(directions=[\"minimize\", \"minimize\"])\nstudy.optimize(objective, n_trials=50)\n\nfig = optuna.visualization.plot_pareto_front(study)\nshow(fig)"
      ]
    },
    {
      "cell_type": "markdown",
      "metadata": {},
      "source": [
        "The following code snippet shows how to plot a 2-dimensional Pareto front\nof a 3-dimensional study.\nThis example is scalable, e.g., for plotting a 2- or 3-dimensional Pareto front\nof a 4-dimensional study and so on.\n\n"
      ]
    },
    {
      "cell_type": "code",
      "execution_count": null,
      "metadata": {
        "collapsed": false
      },
      "outputs": [],
      "source": [
        "import optuna\nfrom plotly.io import show\n\n\ndef objective(trial):\n    x = trial.suggest_float(\"x\", 0, 5)\n    y = trial.suggest_float(\"y\", 0, 3)\n    v0 = 5 * x**2 + 3 * y**2\n    v1 = (x - 10) ** 2 + (y - 10) ** 2\n    v2 = x + y\n\n    return v0, v1, v2\n\n\nstudy = optuna.create_study(directions=[\"minimize\", \"minimize\", \"minimize\"])\n\nstudy.optimize(objective, n_trials=100)\n\nfig = optuna.visualization.plot_pareto_front(\n    study,\n    targets=lambda t: (t.values[0], t.values[1]),\n    target_names=[\"Objective 0\", \"Objective 1\"],\n)\n\nshow(fig)"
      ]
    }
  ],
  "metadata": {
    "kernelspec": {
      "display_name": "Python 3",
      "language": "python",
      "name": "python3"
    },
    "language_info": {
      "codemirror_mode": {
        "name": "ipython",
        "version": 3
      },
      "file_extension": ".py",
      "mimetype": "text/x-python",
      "name": "python",
      "nbconvert_exporter": "python",
      "pygments_lexer": "ipython3",
      "version": "3.8.18"
    }
  },
  "nbformat": 4,
  "nbformat_minor": 0
}