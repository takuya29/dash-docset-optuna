{
  "cells": [
    {
      "cell_type": "markdown",
      "metadata": {},
      "source": [
        "\n# plot_hypervolume_history\n\n.. autofunction:: optuna.visualization.plot_hypervolume_history\n\nThe following code snippet shows how to plot optimization history.\n"
      ]
    },
    {
      "cell_type": "code",
      "execution_count": null,
      "metadata": {
        "collapsed": false
      },
      "outputs": [],
      "source": [
        "import optuna\nfrom plotly.io import show\n\n\ndef objective(trial):\n    x = trial.suggest_float(\"x\", 0, 5)\n    y = trial.suggest_float(\"y\", 0, 3)\n\n    v0 = 4 * x**2 + 4 * y**2\n    v1 = (x - 5) ** 2 + (y - 5) ** 2\n    return v0, v1\n\n\nstudy = optuna.create_study(directions=[\"minimize\", \"minimize\"])\nstudy.optimize(objective, n_trials=50)\n\nreference_point = [100.0, 50.0]\nfig = optuna.visualization.plot_hypervolume_history(study, reference_point)\nshow(fig)"
      ]
    }
  ],
  "metadata": {
    "kernelspec": {
      "display_name": "Python 3",
      "language": "python",
      "name": "python3"
    },
    "language_info": {
      "codemirror_mode": {
        "name": "ipython",
        "version": 3
      },
      "file_extension": ".py",
      "mimetype": "text/x-python",
      "name": "python",
      "nbconvert_exporter": "python",
      "pygments_lexer": "ipython3",
      "version": "3.8.18"
    }
  },
  "nbformat": 4,
  "nbformat_minor": 0
}