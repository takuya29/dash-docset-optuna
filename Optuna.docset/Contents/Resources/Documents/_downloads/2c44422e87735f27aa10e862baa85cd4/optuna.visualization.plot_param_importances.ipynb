{
  "cells": [
    {
      "cell_type": "markdown",
      "metadata": {},
      "source": [
        "\n# plot_param_importances\n\n.. autofunction:: optuna.visualization.plot_param_importances\n\nThe following code snippet shows how to plot hyperparameter importances.\n"
      ]
    },
    {
      "cell_type": "code",
      "execution_count": null,
      "metadata": {
        "collapsed": false
      },
      "outputs": [],
      "source": [
        "import optuna\nfrom plotly.io import show\n\n\ndef objective(trial):\n    x = trial.suggest_int(\"x\", 0, 2)\n    y = trial.suggest_float(\"y\", -1.0, 1.0)\n    z = trial.suggest_float(\"z\", 0.0, 1.5)\n    return x**2 + y**3 - z**4\n\n\nsampler = optuna.samplers.RandomSampler(seed=10)\nstudy = optuna.create_study(sampler=sampler)\nstudy.optimize(objective, n_trials=100)\n\nfig = optuna.visualization.plot_param_importances(study)\nshow(fig)"
      ]
    }
  ],
  "metadata": {
    "kernelspec": {
      "display_name": "Python 3",
      "language": "python",
      "name": "python3"
    },
    "language_info": {
      "codemirror_mode": {
        "name": "ipython",
        "version": 3
      },
      "file_extension": ".py",
      "mimetype": "text/x-python",
      "name": "python",
      "nbconvert_exporter": "python",
      "pygments_lexer": "ipython3",
      "version": "3.8.18"
    }
  },
  "nbformat": 4,
  "nbformat_minor": 0
}