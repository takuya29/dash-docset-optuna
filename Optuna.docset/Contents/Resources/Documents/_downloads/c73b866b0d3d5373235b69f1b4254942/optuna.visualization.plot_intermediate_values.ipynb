{
  "cells": [
    {
      "cell_type": "markdown",
      "metadata": {},
      "source": [
        "\n# plot_intermediate_values\n\n.. autofunction:: optuna.visualization.plot_intermediate_values\n\nThe following code snippet shows how to plot intermediate values.\n"
      ]
    },
    {
      "cell_type": "code",
      "execution_count": null,
      "metadata": {
        "collapsed": false
      },
      "outputs": [],
      "source": [
        "import optuna\nfrom plotly.io import show\n\n\ndef f(x):\n    return (x - 2) ** 2\n\n\ndef df(x):\n    return 2 * x - 4\n\n\ndef objective(trial):\n    lr = trial.suggest_float(\"lr\", 1e-5, 1e-1, log=True)\n\n    x = 3\n    for step in range(128):\n        y = f(x)\n\n        trial.report(y, step=step)\n        if trial.should_prune():\n            raise optuna.TrialPruned()\n\n        gy = df(x)\n        x -= gy * lr\n\n    return y\n\n\nsampler = optuna.samplers.TPESampler(seed=10)\nstudy = optuna.create_study(sampler=sampler)\nstudy.optimize(objective, n_trials=16)\n\nfig = optuna.visualization.plot_intermediate_values(study)\nshow(fig)"
      ]
    }
  ],
  "metadata": {
    "kernelspec": {
      "display_name": "Python 3",
      "language": "python",
      "name": "python3"
    },
    "language_info": {
      "codemirror_mode": {
        "name": "ipython",
        "version": 3
      },
      "file_extension": ".py",
      "mimetype": "text/x-python",
      "name": "python",
      "nbconvert_exporter": "python",
      "pygments_lexer": "ipython3",
      "version": "3.8.18"
    }
  },
  "nbformat": 4,
  "nbformat_minor": 0
}