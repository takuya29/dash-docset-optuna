{
  "cells": [
    {
      "cell_type": "markdown",
      "metadata": {},
      "source": [
        "\n# plot_timeline\n\n.. autofunction:: optuna.visualization.plot_timeline\n\nThe following code snippet shows how to plot the timeline of a study.\nTimeline plot can visualize trials with overlapping execution time\n(e.g., in distributed environments).\n"
      ]
    },
    {
      "cell_type": "code",
      "execution_count": null,
      "metadata": {
        "collapsed": false
      },
      "outputs": [],
      "source": [
        "import time\n\nimport optuna\nfrom plotly.io import show\n\n\ndef objective(trial):\n    x = trial.suggest_float(\"x\", 0, 1)\n    time.sleep(x * 0.1)\n    if x > 0.8:\n        raise ValueError()\n    if x > 0.4:\n        raise optuna.TrialPruned()\n    return x ** 2\n\n\nstudy = optuna.create_study(direction=\"minimize\")\nstudy.optimize(\n    objective, n_trials=50, n_jobs=2, catch=(ValueError,)\n)\n\nfig = optuna.visualization.plot_timeline(study)\nshow(fig)"
      ]
    }
  ],
  "metadata": {
    "kernelspec": {
      "display_name": "Python 3",
      "language": "python",
      "name": "python3"
    },
    "language_info": {
      "codemirror_mode": {
        "name": "ipython",
        "version": 3
      },
      "file_extension": ".py",
      "mimetype": "text/x-python",
      "name": "python",
      "nbconvert_exporter": "python",
      "pygments_lexer": "ipython3",
      "version": "3.8.18"
    }
  },
  "nbformat": 4,
  "nbformat_minor": 0
}