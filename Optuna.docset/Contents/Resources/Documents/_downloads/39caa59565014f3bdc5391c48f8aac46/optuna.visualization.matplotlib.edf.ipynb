{
  "cells": [
    {
      "cell_type": "markdown",
      "metadata": {},
      "source": [
        "\n# plot_edf\n\n.. autofunction:: optuna.visualization.matplotlib.plot_edf\n\nThe following code snippet shows how to plot EDF.\n"
      ]
    },
    {
      "cell_type": "code",
      "execution_count": null,
      "metadata": {
        "collapsed": false
      },
      "outputs": [],
      "source": [
        "import math\n\nimport optuna\n\n\ndef ackley(x, y):\n    a = 20 * math.exp(-0.2 * math.sqrt(0.5 * (x**2 + y**2)))\n    b = math.exp(0.5 * (math.cos(2 * math.pi * x) + math.cos(2 * math.pi * y)))\n    return -a - b + math.e + 20\n\n\ndef objective(trial, low, high):\n    x = trial.suggest_float(\"x\", low, high)\n    y = trial.suggest_float(\"y\", low, high)\n    return ackley(x, y)\n\n\nsampler = optuna.samplers.RandomSampler(seed=10)\n\n# Widest search space.\nstudy0 = optuna.create_study(study_name=\"x=[0,5), y=[0,5)\", sampler=sampler)\nstudy0.optimize(lambda t: objective(t, 0, 5), n_trials=500)\n\n# Narrower search space.\nstudy1 = optuna.create_study(study_name=\"x=[0,4), y=[0,4)\", sampler=sampler)\nstudy1.optimize(lambda t: objective(t, 0, 4), n_trials=500)\n\n# Narrowest search space but it doesn't include the global optimum point.\nstudy2 = optuna.create_study(study_name=\"x=[1,3), y=[1,3)\", sampler=sampler)\nstudy2.optimize(lambda t: objective(t, 1, 3), n_trials=500)\n\noptuna.visualization.matplotlib.plot_edf([study0, study1, study2])"
      ]
    }
  ],
  "metadata": {
    "kernelspec": {
      "display_name": "Python 3",
      "language": "python",
      "name": "python3"
    },
    "language_info": {
      "codemirror_mode": {
        "name": "ipython",
        "version": 3
      },
      "file_extension": ".py",
      "mimetype": "text/x-python",
      "name": "python",
      "nbconvert_exporter": "python",
      "pygments_lexer": "ipython3",
      "version": "3.8.18"
    }
  },
  "nbformat": 4,
  "nbformat_minor": 0
}