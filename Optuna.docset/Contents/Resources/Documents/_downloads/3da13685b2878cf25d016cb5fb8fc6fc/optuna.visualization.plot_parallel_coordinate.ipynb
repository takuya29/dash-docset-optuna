{
  "cells": [
    {
      "cell_type": "markdown",
      "metadata": {},
      "source": [
        "\n# plot_parallel_coordinate\n\n.. autofunction:: optuna.visualization.plot_parallel_coordinate\n\nThe following code snippet shows how to plot the high-dimensional parameter relationships.\n"
      ]
    },
    {
      "cell_type": "code",
      "execution_count": null,
      "metadata": {
        "collapsed": false
      },
      "outputs": [],
      "source": [
        "import optuna\nfrom plotly.io import show\n\n\ndef objective(trial):\n    x = trial.suggest_float(\"x\", -100, 100)\n    y = trial.suggest_categorical(\"y\", [-1, 0, 1])\n    return x**2 + y\n\n\nsampler = optuna.samplers.TPESampler(seed=10)\nstudy = optuna.create_study(sampler=sampler)\nstudy.optimize(objective, n_trials=10)\n\nfig = optuna.visualization.plot_parallel_coordinate(study, params=[\"x\", \"y\"])\nshow(fig)"
      ]
    }
  ],
  "metadata": {
    "kernelspec": {
      "display_name": "Python 3",
      "language": "python",
      "name": "python3"
    },
    "language_info": {
      "codemirror_mode": {
        "name": "ipython",
        "version": 3
      },
      "file_extension": ".py",
      "mimetype": "text/x-python",
      "name": "python",
      "nbconvert_exporter": "python",
      "pygments_lexer": "ipython3",
      "version": "3.8.18"
    }
  },
  "nbformat": 4,
  "nbformat_minor": 0
}