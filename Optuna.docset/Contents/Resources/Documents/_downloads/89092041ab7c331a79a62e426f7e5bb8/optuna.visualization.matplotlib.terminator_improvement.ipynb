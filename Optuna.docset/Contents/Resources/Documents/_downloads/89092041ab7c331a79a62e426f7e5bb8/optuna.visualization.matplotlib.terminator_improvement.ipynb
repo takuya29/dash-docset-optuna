{
  "cells": [
    {
      "cell_type": "markdown",
      "metadata": {},
      "source": [
        "\n# plot_terminator_improvement\n\n.. autofunction:: optuna.visualization.matplotlib.plot_terminator_improvement\n\nThe following code snippet shows how to plot improvement potentials,\ntogether with cross-validation errors.\n"
      ]
    },
    {
      "cell_type": "code",
      "execution_count": null,
      "metadata": {
        "collapsed": false
      },
      "outputs": [],
      "source": [
        "from lightgbm import LGBMClassifier\nfrom sklearn.datasets import load_wine\nfrom sklearn.model_selection import cross_val_score\nfrom sklearn.model_selection import KFold\nimport optuna\nfrom optuna.terminator import report_cross_validation_scores\nfrom optuna.visualization.matplotlib import plot_terminator_improvement\n\n\ndef objective(trial):\n    X, y = load_wine(return_X_y=True)\n    clf = LGBMClassifier(\n        reg_alpha=trial.suggest_float(\"reg_alpha\", 1e-8, 10.0, log=True),\n        reg_lambda=trial.suggest_float(\"reg_lambda\", 1e-8, 10.0, log=True),\n        num_leaves=trial.suggest_int(\"num_leaves\", 2, 256),\n        colsample_bytree=trial.suggest_float(\"colsample_bytree\", 0.4, 1.0),\n        subsample=trial.suggest_float(\"subsample\", 0.4, 1.0),\n        subsample_freq=trial.suggest_int(\"subsample_freq\", 1, 7),\n        min_child_samples=trial.suggest_int(\"min_child_samples\", 5, 100),\n    )\n    scores = cross_val_score(clf, X, y, cv=KFold(n_splits=5, shuffle=True))\n    report_cross_validation_scores(trial, scores)\n    return scores.mean()\n\n\nstudy = optuna.create_study()\nstudy.optimize(objective, n_trials=30)\n\nplot_terminator_improvement(study, plot_error=True)"
      ]
    }
  ],
  "metadata": {
    "kernelspec": {
      "display_name": "Python 3",
      "language": "python",
      "name": "python3"
    },
    "language_info": {
      "codemirror_mode": {
        "name": "ipython",
        "version": 3
      },
      "file_extension": ".py",
      "mimetype": "text/x-python",
      "name": "python",
      "nbconvert_exporter": "python",
      "pygments_lexer": "ipython3",
      "version": "3.8.18"
    }
  },
  "nbformat": 4,
  "nbformat_minor": 0
}