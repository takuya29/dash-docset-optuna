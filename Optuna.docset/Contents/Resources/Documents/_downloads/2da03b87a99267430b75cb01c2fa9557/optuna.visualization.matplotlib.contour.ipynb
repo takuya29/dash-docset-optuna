{
  "cells": [
    {
      "cell_type": "markdown",
      "metadata": {},
      "source": [
        "\n# plot_contour\n\n.. autofunction:: optuna.visualization.matplotlib.plot_contour\n\nThe following code snippet shows how to plot the parameter relationship as contour plot.\n"
      ]
    },
    {
      "cell_type": "code",
      "execution_count": null,
      "metadata": {
        "collapsed": false
      },
      "outputs": [],
      "source": [
        "import optuna\n\n\ndef objective(trial):\n    x = trial.suggest_float(\"x\", -100, 100)\n    y = trial.suggest_categorical(\"y\", [-1, 0, 1])\n    return x**2 + y\n\n\nsampler = optuna.samplers.TPESampler(seed=10)\nstudy = optuna.create_study(sampler=sampler)\nstudy.optimize(objective, n_trials=30)\n\noptuna.visualization.matplotlib.plot_contour(study, params=[\"x\", \"y\"])"
      ]
    }
  ],
  "metadata": {
    "kernelspec": {
      "display_name": "Python 3",
      "language": "python",
      "name": "python3"
    },
    "language_info": {
      "codemirror_mode": {
        "name": "ipython",
        "version": 3
      },
      "file_extension": ".py",
      "mimetype": "text/x-python",
      "name": "python",
      "nbconvert_exporter": "python",
      "pygments_lexer": "ipython3",
      "version": "3.8.18"
    }
  },
  "nbformat": 4,
  "nbformat_minor": 0
}