{
  "cells": [
    {
      "cell_type": "markdown",
      "metadata": {},
      "source": [
        "\n# plot_optimization_history\n\n.. autofunction:: optuna.visualization.matplotlib.plot_optimization_history\n\nThe following code snippet shows how to plot optimization history.\n"
      ]
    },
    {
      "cell_type": "code",
      "execution_count": null,
      "metadata": {
        "collapsed": false
      },
      "outputs": [],
      "source": [
        "import optuna\nimport matplotlib.pyplot as plt\n\n\ndef objective(trial):\n    x = trial.suggest_float(\"x\", -100, 100)\n    y = trial.suggest_categorical(\"y\", [-1, 0, 1])\n    return x**2 + y\n\n\nsampler = optuna.samplers.TPESampler(seed=10)\nstudy = optuna.create_study(sampler=sampler)\nstudy.optimize(objective, n_trials=10)\n\noptuna.visualization.matplotlib.plot_optimization_history(study)\nplt.tight_layout()"
      ]
    }
  ],
  "metadata": {
    "kernelspec": {
      "display_name": "Python 3",
      "language": "python",
      "name": "python3"
    },
    "language_info": {
      "codemirror_mode": {
        "name": "ipython",
        "version": 3
      },
      "file_extension": ".py",
      "mimetype": "text/x-python",
      "name": "python",
      "nbconvert_exporter": "python",
      "pygments_lexer": "ipython3",
      "version": "3.8.18"
    }
  },
  "nbformat": 4,
  "nbformat_minor": 0
}